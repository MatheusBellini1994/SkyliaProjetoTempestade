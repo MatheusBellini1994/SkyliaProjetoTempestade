{
 "cells": [
  {
   "cell_type": "code",
   "execution_count": 1,
   "metadata": {},
   "outputs": [],
   "source": [
    "import pandas as pd\n",
    "import numpy as np"
   ]
  },
  {
   "cell_type": "code",
   "execution_count": 56,
   "metadata": {},
   "outputs": [],
   "source": [
    "df = pd.read_csv('interrupcoes-energia-eletrica-2019.csv', encoding = 'latin1', delimiter = ';', usecols=[2, 8])"
   ]
  },
  {
   "cell_type": "code",
   "execution_count": 57,
   "metadata": {},
   "outputs": [
    {
     "data": {
      "text/html": [
       "<div>\n",
       "<style scoped>\n",
       "    .dataframe tbody tr th:only-of-type {\n",
       "        vertical-align: middle;\n",
       "    }\n",
       "\n",
       "    .dataframe tbody tr th {\n",
       "        vertical-align: top;\n",
       "    }\n",
       "\n",
       "    .dataframe thead th {\n",
       "        text-align: right;\n",
       "    }\n",
       "</style>\n",
       "<table border=\"1\" class=\"dataframe\">\n",
       "  <thead>\n",
       "    <tr style=\"text-align: right;\">\n",
       "      <th></th>\n",
       "      <th>DscConjuntoUnidadeConsumidora</th>\n",
       "      <th>DatInicioInterrupcao</th>\n",
       "    </tr>\n",
       "  </thead>\n",
       "  <tbody>\n",
       "    <tr>\n",
       "      <th>3837888</th>\n",
       "      <td>TUCURUVI</td>\n",
       "      <td>2019-05-25 16:17:40</td>\n",
       "    </tr>\n",
       "    <tr>\n",
       "      <th>3838161</th>\n",
       "      <td>TUCURUVI</td>\n",
       "      <td>2019-11-30 19:11:00</td>\n",
       "    </tr>\n",
       "    <tr>\n",
       "      <th>3838214</th>\n",
       "      <td>TUCURUVI</td>\n",
       "      <td>2019-12-15 17:27:50</td>\n",
       "    </tr>\n",
       "    <tr>\n",
       "      <th>3838342</th>\n",
       "      <td>TUCURUVI</td>\n",
       "      <td>2019-11-16 22:44:59</td>\n",
       "    </tr>\n",
       "    <tr>\n",
       "      <th>3838356</th>\n",
       "      <td>TUCURUVI</td>\n",
       "      <td>2019-05-25 16:14:49</td>\n",
       "    </tr>\n",
       "    <tr>\n",
       "      <th>...</th>\n",
       "      <td>...</td>\n",
       "      <td>...</td>\n",
       "    </tr>\n",
       "    <tr>\n",
       "      <th>4096802</th>\n",
       "      <td>TUCURUVI</td>\n",
       "      <td>2019-12-23 17:09:02</td>\n",
       "    </tr>\n",
       "    <tr>\n",
       "      <th>4096830</th>\n",
       "      <td>TUCURUVI</td>\n",
       "      <td>2019-12-23 16:34:57</td>\n",
       "    </tr>\n",
       "    <tr>\n",
       "      <th>4096836</th>\n",
       "      <td>TUCURUVI</td>\n",
       "      <td>2019-12-23 16:44:51</td>\n",
       "    </tr>\n",
       "    <tr>\n",
       "      <th>4096881</th>\n",
       "      <td>TUCURUVI</td>\n",
       "      <td>2019-12-23 18:35:27</td>\n",
       "    </tr>\n",
       "    <tr>\n",
       "      <th>4096924</th>\n",
       "      <td>TUCURUVI</td>\n",
       "      <td>2019-12-23 17:59:44</td>\n",
       "    </tr>\n",
       "  </tbody>\n",
       "</table>\n",
       "<p>2595 rows × 2 columns</p>\n",
       "</div>"
      ],
      "text/plain": [
       "        DscConjuntoUnidadeConsumidora DatInicioInterrupcao\n",
       "3837888                      TUCURUVI  2019-05-25 16:17:40\n",
       "3838161                      TUCURUVI  2019-11-30 19:11:00\n",
       "3838214                      TUCURUVI  2019-12-15 17:27:50\n",
       "3838342                      TUCURUVI  2019-11-16 22:44:59\n",
       "3838356                      TUCURUVI  2019-05-25 16:14:49\n",
       "...                               ...                  ...\n",
       "4096802                      TUCURUVI  2019-12-23 17:09:02\n",
       "4096830                      TUCURUVI  2019-12-23 16:34:57\n",
       "4096836                      TUCURUVI  2019-12-23 16:44:51\n",
       "4096881                      TUCURUVI  2019-12-23 18:35:27\n",
       "4096924                      TUCURUVI  2019-12-23 17:59:44\n",
       "\n",
       "[2595 rows x 2 columns]"
      ]
     },
     "execution_count": 57,
     "metadata": {},
     "output_type": "execute_result"
    }
   ],
   "source": [
    "dfconsumidora = df[df['DscConjuntoUnidadeConsumidora']=='TUCURUVI'].copy()\n",
    "\n",
    "dfconsumidora"
   ]
  },
  {
   "cell_type": "code",
   "execution_count": 58,
   "metadata": {},
   "outputs": [],
   "source": [
    "dfconsumidora.to_csv('interrupções_Tucuruvi_2019.csv', index=False)"
   ]
  },
  {
   "cell_type": "code",
   "execution_count": 59,
   "metadata": {},
   "outputs": [],
   "source": [
    "df2019 = pd.read_csv('interrupções_Tucuruvi_2019.csv')\n",
    "df2020 = pd.read_csv('interrupções_Tucuruvi_2020.csv')\n",
    "df2021 = pd.read_csv('interrupções_Tucuruvi_2021.csv')\n",
    "df2022 = pd.read_csv('interrupções_Tucuruvi_2022.csv')\n",
    "df2023 = pd.read_csv('interrupções_Tucuruvi_2023.csv')"
   ]
  },
  {
   "cell_type": "code",
   "execution_count": 60,
   "metadata": {},
   "outputs": [
    {
     "data": {
      "text/html": [
       "<div>\n",
       "<style scoped>\n",
       "    .dataframe tbody tr th:only-of-type {\n",
       "        vertical-align: middle;\n",
       "    }\n",
       "\n",
       "    .dataframe tbody tr th {\n",
       "        vertical-align: top;\n",
       "    }\n",
       "\n",
       "    .dataframe thead th {\n",
       "        text-align: right;\n",
       "    }\n",
       "</style>\n",
       "<table border=\"1\" class=\"dataframe\">\n",
       "  <thead>\n",
       "    <tr style=\"text-align: right;\">\n",
       "      <th></th>\n",
       "      <th>DscConjuntoUnidadeConsumidora</th>\n",
       "      <th>DatInicioInterrupcao</th>\n",
       "    </tr>\n",
       "  </thead>\n",
       "  <tbody>\n",
       "    <tr>\n",
       "      <th>0</th>\n",
       "      <td>TUCURUVI</td>\n",
       "      <td>2019-05-25 16:17:40</td>\n",
       "    </tr>\n",
       "    <tr>\n",
       "      <th>1</th>\n",
       "      <td>TUCURUVI</td>\n",
       "      <td>2019-11-30 19:11:00</td>\n",
       "    </tr>\n",
       "    <tr>\n",
       "      <th>2</th>\n",
       "      <td>TUCURUVI</td>\n",
       "      <td>2019-12-15 17:27:50</td>\n",
       "    </tr>\n",
       "    <tr>\n",
       "      <th>3</th>\n",
       "      <td>TUCURUVI</td>\n",
       "      <td>2019-11-16 22:44:59</td>\n",
       "    </tr>\n",
       "    <tr>\n",
       "      <th>4</th>\n",
       "      <td>TUCURUVI</td>\n",
       "      <td>2019-05-25 16:14:49</td>\n",
       "    </tr>\n",
       "    <tr>\n",
       "      <th>...</th>\n",
       "      <td>...</td>\n",
       "      <td>...</td>\n",
       "    </tr>\n",
       "    <tr>\n",
       "      <th>2347</th>\n",
       "      <td>TUCURUVI</td>\n",
       "      <td>2023-12-06 09:04:40</td>\n",
       "    </tr>\n",
       "    <tr>\n",
       "      <th>2348</th>\n",
       "      <td>TUCURUVI</td>\n",
       "      <td>2023-12-06 09:48:50</td>\n",
       "    </tr>\n",
       "    <tr>\n",
       "      <th>2349</th>\n",
       "      <td>TUCURUVI</td>\n",
       "      <td>2023-12-05 16:49:32</td>\n",
       "    </tr>\n",
       "    <tr>\n",
       "      <th>2350</th>\n",
       "      <td>TUCURUVI</td>\n",
       "      <td>2023-12-05 22:15:00</td>\n",
       "    </tr>\n",
       "    <tr>\n",
       "      <th>2351</th>\n",
       "      <td>TUCURUVI</td>\n",
       "      <td>2023-12-05 21:05:28</td>\n",
       "    </tr>\n",
       "  </tbody>\n",
       "</table>\n",
       "<p>9969 rows × 2 columns</p>\n",
       "</div>"
      ],
      "text/plain": [
       "     DscConjuntoUnidadeConsumidora DatInicioInterrupcao\n",
       "0                         TUCURUVI  2019-05-25 16:17:40\n",
       "1                         TUCURUVI  2019-11-30 19:11:00\n",
       "2                         TUCURUVI  2019-12-15 17:27:50\n",
       "3                         TUCURUVI  2019-11-16 22:44:59\n",
       "4                         TUCURUVI  2019-05-25 16:14:49\n",
       "...                            ...                  ...\n",
       "2347                      TUCURUVI  2023-12-06 09:04:40\n",
       "2348                      TUCURUVI  2023-12-06 09:48:50\n",
       "2349                      TUCURUVI  2023-12-05 16:49:32\n",
       "2350                      TUCURUVI  2023-12-05 22:15:00\n",
       "2351                      TUCURUVI  2023-12-05 21:05:28\n",
       "\n",
       "[9969 rows x 2 columns]"
      ]
     },
     "execution_count": 60,
     "metadata": {},
     "output_type": "execute_result"
    }
   ],
   "source": [
    "dfCompilado2019_2022 = pd.concat([df2019,df2020,df2021,df2022,df2023])\n",
    "dfCompilado2019_2022"
   ]
  },
  {
   "cell_type": "code",
   "execution_count": 61,
   "metadata": {},
   "outputs": [],
   "source": [
    "# Converter as colunas de tempo na tabela de quedas de energia\n",
    "dfCompilado2019_2022['DatInicioInterrupcao'] = pd.to_datetime(dfCompilado2019_2022['DatInicioInterrupcao'])\n",
    "\n",
    "# Extrair apenas a data e arredondar a hora das interrupções\n",
    "dfCompilado2019_2022['Data'] = dfCompilado2019_2022['DatInicioInterrupcao'].dt.date\n",
    "dfCompilado2019_2022['Hora'] = dfCompilado2019_2022['DatInicioInterrupcao'].dt.hour + np.round(dfCompilado2019_2022['DatInicioInterrupcao'].dt.minute / 60)\n",
    "\n",
    "# Certificar que a coluna 'Hora' tenha valores inteiros\n",
    "dfCompilado2019_2022['Hora'] = dfCompilado2019_2022['Hora'].astype(int)"
   ]
  },
  {
   "cell_type": "code",
   "execution_count": 62,
   "metadata": {},
   "outputs": [],
   "source": [
    "# Agrupar as interrupções por Data e Hora, e contar o número de ocorrências\n",
    "energia_agrupada2019_2022 = dfCompilado2019_2022.groupby(['Data', 'Hora']).size().reset_index(name='num_ocorrencias')\n",
    "\n",
    "# Ensure the 'Data' column in energia_agrupada is of datetime type\n",
    "energia_agrupada2019_2022['Data'] = pd.to_datetime(energia_agrupada2019_2022['Data'])\n"
   ]
  },
  {
   "cell_type": "code",
   "execution_count": 64,
   "metadata": {},
   "outputs": [],
   "source": [
    "#salvar em csv\n",
    "energia_agrupada2019_2022.to_csv('interrupcoes_Tucuruvi_2019-2023.csv', index=False)"
   ]
  }
 ],
 "metadata": {
  "kernelspec": {
   "display_name": "venv",
   "language": "python",
   "name": "python3"
  },
  "language_info": {
   "codemirror_mode": {
    "name": "ipython",
    "version": 3
   },
   "file_extension": ".py",
   "mimetype": "text/x-python",
   "name": "python",
   "nbconvert_exporter": "python",
   "pygments_lexer": "ipython3",
   "version": "3.12.2"
  }
 },
 "nbformat": 4,
 "nbformat_minor": 2
}
