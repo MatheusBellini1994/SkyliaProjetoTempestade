{
 "cells": [
  {
   "cell_type": "code",
   "execution_count": 1,
   "metadata": {},
   "outputs": [],
   "source": [
    "import pandas as pd\n",
    "import numpy as np"
   ]
  },
  {
   "cell_type": "code",
   "execution_count": 39,
   "metadata": {},
   "outputs": [],
   "source": [
    "clima_df = pd.read_csv('Clima_inter_2019_2023.csv')\n",
    "energia_df = pd.read_csv('interrupcoes_Parelheiros_2019-2023.csv')"
   ]
  },
  {
   "cell_type": "code",
   "execution_count": 42,
   "metadata": {},
   "outputs": [
    {
     "name": "stdout",
     "output_type": "stream",
     "text": [
      "Data                datetime64[ns]\n",
      "Hora (UTC)                   int32\n",
      "Temp. Ins. (C)             float64\n",
      "Vel. Vento (m/s)           float64\n",
      "Raj. Vento (m/s)           float64\n",
      "Chuva (mm)                 float64\n",
      "dtype: object\n",
      "Data               datetime64[ns]\n",
      "Hora                        int64\n",
      "num_ocorrencias             int64\n",
      "dtype: object\n"
     ]
    }
   ],
   "source": [
    "print(clima_df.dtypes)\n",
    "print(energia_df.dtypes)\n"
   ]
  },
  {
   "cell_type": "code",
   "execution_count": 41,
   "metadata": {},
   "outputs": [
    {
     "name": "stderr",
     "output_type": "stream",
     "text": [
      "C:\\Users\\Levi\\AppData\\Local\\Temp\\ipykernel_119344\\1796813828.py:19: FutureWarning: A value is trying to be set on a copy of a DataFrame or Series through chained assignment using an inplace method.\n",
      "The behavior will change in pandas 3.0. This inplace method will never work because the intermediate object on which we are setting values always behaves as a copy.\n",
      "\n",
      "For example, when doing 'df[col].method(value, inplace=True)', try using 'df.method({col: value}, inplace=True)' or df[col] = df[col].method(value) instead, to perform the operation inplace on the original object.\n",
      "\n",
      "\n",
      "  merged_df['num_ocorrencias'].fillna(0, inplace=True)\n"
     ]
    }
   ],
   "source": [
    "# Ajustar a tabela de clima\n",
    "# Converter 'Hora (UTC)' para datetime e depois extrair a hora como inteiro (0-23)\n",
    "clima_df['Hora (UTC)'] = pd.to_datetime(clima_df['Hora (UTC)'], format='%H:%M:%S').dt.hour\n",
    "\n",
    "# Certificar que a coluna 'Data' está no formato datetime\n",
    "clima_df['Data'] = pd.to_datetime(clima_df['Data'], format='%Y-%m-%d')\n",
    "\n",
    "# Ajustar a tabela de energia\n",
    "# Certificar que a coluna 'Data' está no formato datetime\n",
    "energia_df['Data'] = pd.to_datetime(energia_df['Data'], format='%Y-%m-%d')\n",
    "\n",
    "# Realizar o merge das duas tabelas, baseando-se na coluna 'Data' e 'Hora'\n",
    "merged_df = pd.merge(clima_df, energia_df,\n",
    "                     left_on=['Data', 'Hora (UTC)'],\n",
    "                     right_on=['Data', 'Hora'],\n",
    "                     how='left')\n",
    "\n",
    "# Substituir valores NaN em 'num_ocorrencias' por 0, indicando que não houve queda de energia\n",
    "merged_df['num_ocorrencias'].fillna(0, inplace=True)\n",
    "\n",
    "merged_df = merged_df.drop(columns=['Hora'])"
   ]
  },
  {
   "cell_type": "code",
   "execution_count": 43,
   "metadata": {},
   "outputs": [],
   "source": [
    "merged_df.to_csv('clima_queda_parelheiros_2019-2023.csv', index=False)"
   ]
  },
  {
   "cell_type": "code",
   "execution_count": 37,
   "metadata": {},
   "outputs": [
    {
     "data": {
      "text/plain": [
       "Index(['Data', 'Hora (UTC)', 'Temp. Ins. (C)', 'Vel. Vento (m/s)',\n",
       "       'Raj. Vento (m/s)', 'Chuva (mm)', 'num_ocorrencias'],\n",
       "      dtype='object')"
      ]
     },
     "execution_count": 37,
     "metadata": {},
     "output_type": "execute_result"
    }
   ],
   "source": [
    "merged_df.columns\n"
   ]
  }
 ],
 "metadata": {
  "kernelspec": {
   "display_name": "Python 3",
   "language": "python",
   "name": "python3"
  },
  "language_info": {
   "codemirror_mode": {
    "name": "ipython",
    "version": 3
   },
   "file_extension": ".py",
   "mimetype": "text/x-python",
   "name": "python",
   "nbconvert_exporter": "python",
   "pygments_lexer": "ipython3",
   "version": "3.12.2"
  }
 },
 "nbformat": 4,
 "nbformat_minor": 2
}
